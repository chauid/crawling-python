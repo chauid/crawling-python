{
 "cells": [
  {
   "cell_type": "code",
   "execution_count": 44,
   "id": "2fb9241b",
   "metadata": {},
   "outputs": [
    {
     "name": "stdout",
     "output_type": "stream",
     "text": [
      "생크림을 흔들면 버터가 생기는 원리좀 자세하게 알려주세요.\n",
      "--------------------------------------------------------------------------------\n",
      "https://kin.naver.com/qna/detail.naver?d1id=7&dirId=71101&docId=346250791&enc=utf8&kinsrch_src=pc_nx_kin&qb=MTAwMDAwMDlfMDAwMDE0YTM1ZTI3IDEwMDAwMDA5XzAwMDAxNWU4NGRmMSAxMDAwMDAwOV8wMDAwMTI0MGNiMzEgMTAwMDAwMDlfMDAwMDBiZTM0YzU4IA%3D%3D\n",
      "--------------------------------------------------------------------------------\n"
     ]
    }
   ],
   "source": [
    "import requests\n",
    "from bs4 import BeautifulSoup as bs\n",
    "\n",
    "# 크롤링할 웹페이지 URL\n",
    "url = \"https://search.naver.com/search.naver?where=nexearch&sm=top_hty&fbm=0&ie=utf8&query=&ackey=xb4ilhvm\"\n",
    "\n",
    "# 웹페이지 요청\n",
    "response = requests.get(url)\n",
    "response.raise_for_status()  # 오류 발생 시 예외 처리\n",
    "\n",
    "# HTML 파싱\n",
    "soup = bs(response.text, \"lxml\")\n",
    "# print(soup)  # HTML 구조 출력\n",
    "\n",
    "# 모든 <span> 태그 텍스트 추출\n",
    "span_list = soup.select('span.sds-comps-text-type-headline2')\n",
    "a_list = soup.select('a.bXkY_j9rDdvFawUQ5HBd.kcGAWmGgopydMhkUVjpV')\n",
    "for span in span_list:\n",
    "    print(span.get_text())\n",
    "    print(\"-\" * 80)\n",
    "\n",
    "for a in a_list:\n",
    "    print(a.get_attribute_list('href')[0])\n",
    "    print(\"-\" * 80)\n"
   ]
  },
  {
   "cell_type": "code",
   "execution_count": 4,
   "id": "dcbec022",
   "metadata": {},
   "outputs": [
    {
     "name": "stdout",
     "output_type": "stream",
     "text": [
      "현재 온도26.7°\n"
     ]
    }
   ],
   "source": [
    "import requests\n",
    "from bs4 import BeautifulSoup as bs\n",
    "\n",
    "response = requests.get(\"https://search.naver.com/search.naver?where=nexearch&sm=top_hty&fbm=0&ie=utf8&query=%EB%82%A0%EC%94%A8&ackey=6tno6zgx\")\n",
    "response.raise_for_status()  # 오류 발생 시 예외 처리\n",
    "\n",
    "soup = bs(response.text, \"lxml\")\n",
    "temperature = soup.select('div.temperature_text')\n",
    "\n",
    "strong_tags = []\n",
    "for temp in temperature:\n",
    "    strong = temp.find('strong')\n",
    "    if strong:\n",
    "        strong_tags.append(strong.get_text())\n",
    "\n",
    "for strong in strong_tags:\n",
    "    if \"현재 온도\" in strong:\n",
    "        print(strong)"
   ]
  }
 ],
 "metadata": {
  "kernelspec": {
   "display_name": "crawling",
   "language": "python",
   "name": "python3"
  },
  "language_info": {
   "codemirror_mode": {
    "name": "ipython",
    "version": 3
   },
   "file_extension": ".py",
   "mimetype": "text/x-python",
   "name": "python",
   "nbconvert_exporter": "python",
   "pygments_lexer": "ipython3",
   "version": "3.12.11"
  }
 },
 "nbformat": 4,
 "nbformat_minor": 5
}
