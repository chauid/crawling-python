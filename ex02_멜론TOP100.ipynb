{
 "cells": [
  {
   "cell_type": "code",
   "execution_count": 1,
   "id": "6785346e",
   "metadata": {},
   "outputs": [
    {
     "name": "stdout",
     "output_type": "stream",
     "text": [
      "             곡명                                                가수명\n",
      "0        Golden  HUNTR/X,EJAE,AUDREY NUNA,REI AMI,KPop Demon Hu...\n",
      "1      Soda Pop  KPop Demon Hunters Cast,Danny Chung,Saja Boys,...\n",
      "2      뛰어(JUMP)                                 BLACKPINKBLACKPINK\n",
      "3        FAMOUS                       ALLDAY PROJECTALLDAY PROJECT\n",
      "4      Drowning                                         WOODZWOODZ\n",
      "..          ...                                                ...\n",
      "95       멸종위기사랑                                             이찬혁이찬혁\n",
      "96      TAKE ME                                   G-DRAGONG-DRAGON\n",
      "97           온기                                             임영웅임영웅\n",
      "98  사막에서 꽃을 피우듯                               우디 (Woody)우디 (Woody)\n",
      "99         Surf                                   NCT WISHNCT WISH\n",
      "\n",
      "[100 rows x 2 columns]\n"
     ]
    }
   ],
   "source": [
    "import requests\n",
    "from bs4 import BeautifulSoup as bs\n",
    "import pandas as pd\n",
    "\n",
    "# 헤더 정보를 설정하여 요청\n",
    "h = {\"User-Agent\": \"Mozilla/5.0 (Windows NT 10.0; Win64; x64) AppleWebKit/537.36 (KHTML, like Gecko) Chrome/138.0.0.0 Safari/537.36\"}\n",
    "response = requests.get(\"https://www.melon.com/chart/index.htm\", headers=h)\n",
    "response.raise_for_status()  # 오류 발생 시 예외 처리\n",
    "\n",
    "soup = bs(response.text, \"lxml\")\n",
    "\n",
    "song_list = soup.select('div.ellipsis.rank01')\n",
    "singer_list = soup.select('div.ellipsis.rank02')\n",
    "\n",
    "# 곡명과 가수명을 리스트로 추출\n",
    "songs = [name.get_text(strip=True) for name in song_list]\n",
    "singers = [singer.get_text(strip=True) for singer in singer_list]\n",
    "\n",
    "# 데이터프레임 생성\n",
    "df = pd.DataFrame({\"곡명\": songs, \"가수명\": singers})\n",
    "print(df)"
   ]
  }
 ],
 "metadata": {
  "kernelspec": {
   "display_name": "crawling",
   "language": "python",
   "name": "python3"
  },
  "language_info": {
   "codemirror_mode": {
    "name": "ipython",
    "version": 3
   },
   "file_extension": ".py",
   "mimetype": "text/x-python",
   "name": "python",
   "nbconvert_exporter": "python",
   "pygments_lexer": "ipython3",
   "version": "3.12.11"
  }
 },
 "nbformat": 4,
 "nbformat_minor": 5
}
